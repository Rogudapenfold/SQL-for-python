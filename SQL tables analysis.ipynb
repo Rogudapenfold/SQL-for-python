{
 "cells": [
  {
   "cell_type": "markdown",
   "id": "c14bf2c3",
   "metadata": {},
   "source": [
    "# Importing sqlite module"
   ]
  },
  {
   "cell_type": "code",
   "execution_count": 8,
   "id": "404470e1",
   "metadata": {},
   "outputs": [],
   "source": [
    "import sqlite3\n",
    "import numpy as np # linear algebra\n",
    "import pandas as pd"
   ]
  },
  {
   "cell_type": "markdown",
   "id": "5a5243fb",
   "metadata": {},
   "source": [
    "# Establishing a connection to our database"
   ]
  },
  {
   "cell_type": "code",
   "execution_count": 9,
   "id": "d90943c2",
   "metadata": {},
   "outputs": [],
   "source": [
    "conn = sqlite3.connect(\"employees_store.db\")"
   ]
  },
  {
   "cell_type": "markdown",
   "id": "ddd45fe1",
   "metadata": {},
   "source": [
    "# Allows us to interact with our database"
   ]
  },
  {
   "cell_type": "code",
   "execution_count": 10,
   "id": "680b08a1",
   "metadata": {},
   "outputs": [],
   "source": [
    "cursor = conn.cursor()"
   ]
  },
  {
   "cell_type": "code",
   "execution_count": 28,
   "id": "7f5edb8d",
   "metadata": {},
   "outputs": [
    {
     "data": {
      "text/plain": [
       "<sqlite3.Cursor at 0x28dfe729a40>"
      ]
     },
     "execution_count": 28,
     "metadata": {},
     "output_type": "execute_result"
    }
   ],
   "source": [
    "cursor.execute(\"\"\"drop table employees\"\"\")"
   ]
  },
  {
   "cell_type": "markdown",
   "id": "02c3b938",
   "metadata": {},
   "source": [
    "# Creating pets table"
   ]
  },
  {
   "cell_type": "code",
   "execution_count": 29,
   "id": "07b2a049",
   "metadata": {},
   "outputs": [
    {
     "data": {
      "text/plain": [
       "<sqlite3.Cursor at 0x28dfe729a40>"
      ]
     },
     "execution_count": 29,
     "metadata": {},
     "output_type": "execute_result"
    }
   ],
   "source": [
    "cursor.execute(\"\"\"CREATE TABLE employees (employee_id INTEGER PRIMARY KEY AUTOINCREMENT, \n",
    "                employee_name TEXT NOT NULL, adress TEXT NOT NULL, gender TEXT NOT NULL, \n",
    "                DOB TEXT NOT NULL, salary REAL NOT NULL)\"\"\")"
   ]
  },
  {
   "cell_type": "markdown",
   "id": "80b40dd8",
   "metadata": {},
   "source": [
    "# Inserting our first record into our table"
   ]
  },
  {
   "cell_type": "code",
   "execution_count": 30,
   "id": "89d8a141",
   "metadata": {},
   "outputs": [
    {
     "data": {
      "text/plain": [
       "<sqlite3.Cursor at 0x28dfe729a40>"
      ]
     },
     "execution_count": 30,
     "metadata": {},
     "output_type": "execute_result"
    }
   ],
   "source": [
    "cursor.execute(\"\"\" INSERT INTO employees (employee_name, adress, gender, DOB, salary)\n",
    "                VALUES ('john', '11 east ave califonia', 'M', '01/01/1971', 12500.00)\"\"\")"
   ]
  },
  {
   "cell_type": "markdown",
   "id": "e76ed99b",
   "metadata": {},
   "source": [
    "# Save data to database"
   ]
  },
  {
   "cell_type": "code",
   "execution_count": 31,
   "id": "5c544c9a",
   "metadata": {},
   "outputs": [],
   "source": [
    "conn.commit()"
   ]
  },
  {
   "cell_type": "markdown",
   "id": "95027102",
   "metadata": {},
   "source": [
    "# List containing new records to be inserted into our table"
   ]
  },
  {
   "cell_type": "code",
   "execution_count": 32,
   "id": "56030a61",
   "metadata": {},
   "outputs": [
    {
     "name": "stdout",
     "output_type": "stream",
     "text": [
      "5 rows were added to the table\n"
     ]
    }
   ],
   "source": [
    "employees = [\n",
    "    ('mark', '78 milay usa', 'M', '05/20/1969', 1500.00),\n",
    "    ('Lisa', '53 califonia  ', 'F', '07/05/1986', 1250.00),\n",
    "    ('Jacob', '220 turtle street ', 'M', '04/23/1991', 2509.00),\n",
    "    ('Carol', '18 steishuizen street ', 'F', '07/23/1988', 1125.00),\n",
    "    ('Lesley', '36 bruma road', 'M', '09/12/1954', 6950.00)\n",
    "]\n",
    "\n",
    "#Variable containing insert into statement\n",
    "sql = 'INSERT INTO employees (employee_name, adress, gender, DOB, salary) VALUES (?,?,?,?,?)'\n",
    "\n",
    "#Insert multiple records in a single statement\n",
    "cursor.executemany(sql, employees)\n",
    "\n",
    "#Save changes to our database\n",
    "conn.commit()\n",
    "\n",
    "#Printing the number of rows added to our table\n",
    "print(cursor.rowcount, \"rows were added to the table\")"
   ]
  },
  {
   "cell_type": "markdown",
   "id": "56ee3feb",
   "metadata": {},
   "source": [
    "# Updating our Table"
   ]
  },
  {
   "cell_type": "code",
   "execution_count": 33,
   "id": "12093815",
   "metadata": {},
   "outputs": [],
   "source": [
    "update = \"\"\"\n",
    "UPDATE employees\n",
    "SET employee_name = 'Penny'\n",
    "WHERE employee_id = 3\n",
    "\"\"\"\n",
    "#Modifying existing row\n",
    "cursor.execute(update)\n",
    "\n",
    "#Save changes to our database\n",
    "conn.commit()"
   ]
  },
  {
   "cell_type": "code",
   "execution_count": 34,
   "id": "0896a8fe",
   "metadata": {
    "scrolled": true
   },
   "outputs": [
    {
     "data": {
      "text/html": [
       "<div>\n",
       "<style scoped>\n",
       "    .dataframe tbody tr th:only-of-type {\n",
       "        vertical-align: middle;\n",
       "    }\n",
       "\n",
       "    .dataframe tbody tr th {\n",
       "        vertical-align: top;\n",
       "    }\n",
       "\n",
       "    .dataframe thead th {\n",
       "        text-align: right;\n",
       "    }\n",
       "</style>\n",
       "<table border=\"1\" class=\"dataframe\">\n",
       "  <thead>\n",
       "    <tr style=\"text-align: right;\">\n",
       "      <th></th>\n",
       "      <th>employee_id</th>\n",
       "      <th>employee_name</th>\n",
       "      <th>adress</th>\n",
       "      <th>gender</th>\n",
       "      <th>DOB</th>\n",
       "      <th>salary</th>\n",
       "    </tr>\n",
       "  </thead>\n",
       "  <tbody>\n",
       "    <tr>\n",
       "      <th>0</th>\n",
       "      <td>1</td>\n",
       "      <td>john</td>\n",
       "      <td>11 east ave califonia</td>\n",
       "      <td>M</td>\n",
       "      <td>01/01/1971</td>\n",
       "      <td>12500.0</td>\n",
       "    </tr>\n",
       "    <tr>\n",
       "      <th>1</th>\n",
       "      <td>2</td>\n",
       "      <td>mark</td>\n",
       "      <td>78 milay usa</td>\n",
       "      <td>M</td>\n",
       "      <td>05/20/1969</td>\n",
       "      <td>1500.0</td>\n",
       "    </tr>\n",
       "    <tr>\n",
       "      <th>2</th>\n",
       "      <td>3</td>\n",
       "      <td>Penny</td>\n",
       "      <td>53 califonia</td>\n",
       "      <td>F</td>\n",
       "      <td>07/05/1986</td>\n",
       "      <td>1250.0</td>\n",
       "    </tr>\n",
       "    <tr>\n",
       "      <th>3</th>\n",
       "      <td>4</td>\n",
       "      <td>Jacob</td>\n",
       "      <td>220 turtle street</td>\n",
       "      <td>M</td>\n",
       "      <td>04/23/1991</td>\n",
       "      <td>2509.0</td>\n",
       "    </tr>\n",
       "    <tr>\n",
       "      <th>4</th>\n",
       "      <td>5</td>\n",
       "      <td>Carol</td>\n",
       "      <td>18 steishuizen street</td>\n",
       "      <td>F</td>\n",
       "      <td>07/23/1988</td>\n",
       "      <td>1125.0</td>\n",
       "    </tr>\n",
       "    <tr>\n",
       "      <th>5</th>\n",
       "      <td>6</td>\n",
       "      <td>Lesley</td>\n",
       "      <td>36 bruma road</td>\n",
       "      <td>M</td>\n",
       "      <td>09/12/1954</td>\n",
       "      <td>6950.0</td>\n",
       "    </tr>\n",
       "  </tbody>\n",
       "</table>\n",
       "</div>"
      ],
      "text/plain": [
       "   employee_id employee_name                  adress gender         DOB  \\\n",
       "0            1          john   11 east ave califonia      M  01/01/1971   \n",
       "1            2          mark            78 milay usa      M  05/20/1969   \n",
       "2            3         Penny          53 califonia        F  07/05/1986   \n",
       "3            4         Jacob      220 turtle street       M  04/23/1991   \n",
       "4            5         Carol  18 steishuizen street       F  07/23/1988   \n",
       "5            6        Lesley           36 bruma road      M  09/12/1954   \n",
       "\n",
       "    salary  \n",
       "0  12500.0  \n",
       "1   1500.0  \n",
       "2   1250.0  \n",
       "3   2509.0  \n",
       "4   1125.0  \n",
       "5   6950.0  "
      ]
     },
     "execution_count": 34,
     "metadata": {},
     "output_type": "execute_result"
    }
   ],
   "source": [
    "df = pd.read_sql_query(\"\"\"SELECT *FROM employees\"\"\", conn)\n",
    "df"
   ]
  },
  {
   "cell_type": "markdown",
   "id": "ed753d32",
   "metadata": {},
   "source": [
    "# Deleting our Table"
   ]
  },
  {
   "cell_type": "code",
   "execution_count": 35,
   "id": "b538d590",
   "metadata": {},
   "outputs": [],
   "source": [
    "deletion = \"\"\"\n",
    "DELETE FROM employees\n",
    "WHERE employee_id = 6\n",
    "\"\"\"\n",
    "\n",
    "#Removing exisiting row from table\n",
    "cursor.execute(deletion)\n",
    "\n",
    "#Save changes to our database\n",
    "conn.commit()"
   ]
  },
  {
   "cell_type": "markdown",
   "id": "913d1206",
   "metadata": {},
   "source": [
    "# Viewing names from our emplouyees Table"
   ]
  },
  {
   "cell_type": "code",
   "execution_count": 36,
   "id": "65a13390",
   "metadata": {},
   "outputs": [
    {
     "data": {
      "text/html": [
       "<div>\n",
       "<style scoped>\n",
       "    .dataframe tbody tr th:only-of-type {\n",
       "        vertical-align: middle;\n",
       "    }\n",
       "\n",
       "    .dataframe tbody tr th {\n",
       "        vertical-align: top;\n",
       "    }\n",
       "\n",
       "    .dataframe thead th {\n",
       "        text-align: right;\n",
       "    }\n",
       "</style>\n",
       "<table border=\"1\" class=\"dataframe\">\n",
       "  <thead>\n",
       "    <tr style=\"text-align: right;\">\n",
       "      <th></th>\n",
       "      <th>employee_name</th>\n",
       "    </tr>\n",
       "  </thead>\n",
       "  <tbody>\n",
       "    <tr>\n",
       "      <th>0</th>\n",
       "      <td>john</td>\n",
       "    </tr>\n",
       "    <tr>\n",
       "      <th>1</th>\n",
       "      <td>mark</td>\n",
       "    </tr>\n",
       "    <tr>\n",
       "      <th>2</th>\n",
       "      <td>Penny</td>\n",
       "    </tr>\n",
       "    <tr>\n",
       "      <th>3</th>\n",
       "      <td>Jacob</td>\n",
       "    </tr>\n",
       "    <tr>\n",
       "      <th>4</th>\n",
       "      <td>Carol</td>\n",
       "    </tr>\n",
       "  </tbody>\n",
       "</table>\n",
       "</div>"
      ],
      "text/plain": [
       "  employee_name\n",
       "0          john\n",
       "1          mark\n",
       "2         Penny\n",
       "3         Jacob\n",
       "4         Carol"
      ]
     },
     "execution_count": 36,
     "metadata": {},
     "output_type": "execute_result"
    }
   ],
   "source": [
    "sql = \"\"\"\n",
    "SELECT employee_name\n",
    "FROM employees\n",
    "\"\"\"\n",
    "df = pd.read_sql_query(sql, conn)\n",
    "df"
   ]
  },
  {
   "cell_type": "markdown",
   "id": "d4f29a60",
   "metadata": {},
   "source": [
    "# Variable containing SELECT statement"
   ]
  },
  {
   "cell_type": "code",
   "execution_count": 37,
   "id": "48ce8eae",
   "metadata": {},
   "outputs": [
    {
     "data": {
      "text/html": [
       "<div>\n",
       "<style scoped>\n",
       "    .dataframe tbody tr th:only-of-type {\n",
       "        vertical-align: middle;\n",
       "    }\n",
       "\n",
       "    .dataframe tbody tr th {\n",
       "        vertical-align: top;\n",
       "    }\n",
       "\n",
       "    .dataframe thead th {\n",
       "        text-align: right;\n",
       "    }\n",
       "</style>\n",
       "<table border=\"1\" class=\"dataframe\">\n",
       "  <thead>\n",
       "    <tr style=\"text-align: right;\">\n",
       "      <th></th>\n",
       "      <th>employee_id</th>\n",
       "      <th>employee_name</th>\n",
       "      <th>adress</th>\n",
       "      <th>gender</th>\n",
       "      <th>DOB</th>\n",
       "      <th>salary</th>\n",
       "    </tr>\n",
       "  </thead>\n",
       "  <tbody>\n",
       "    <tr>\n",
       "      <th>0</th>\n",
       "      <td>1</td>\n",
       "      <td>john</td>\n",
       "      <td>11 east ave califonia</td>\n",
       "      <td>M</td>\n",
       "      <td>01/01/1971</td>\n",
       "      <td>12500.0</td>\n",
       "    </tr>\n",
       "    <tr>\n",
       "      <th>1</th>\n",
       "      <td>2</td>\n",
       "      <td>mark</td>\n",
       "      <td>78 milay usa</td>\n",
       "      <td>M</td>\n",
       "      <td>05/20/1969</td>\n",
       "      <td>1500.0</td>\n",
       "    </tr>\n",
       "    <tr>\n",
       "      <th>2</th>\n",
       "      <td>3</td>\n",
       "      <td>Penny</td>\n",
       "      <td>53 califonia</td>\n",
       "      <td>F</td>\n",
       "      <td>07/05/1986</td>\n",
       "      <td>1250.0</td>\n",
       "    </tr>\n",
       "    <tr>\n",
       "      <th>3</th>\n",
       "      <td>4</td>\n",
       "      <td>Jacob</td>\n",
       "      <td>220 turtle street</td>\n",
       "      <td>M</td>\n",
       "      <td>04/23/1991</td>\n",
       "      <td>2509.0</td>\n",
       "    </tr>\n",
       "    <tr>\n",
       "      <th>4</th>\n",
       "      <td>5</td>\n",
       "      <td>Carol</td>\n",
       "      <td>18 steishuizen street</td>\n",
       "      <td>F</td>\n",
       "      <td>07/23/1988</td>\n",
       "      <td>1125.0</td>\n",
       "    </tr>\n",
       "  </tbody>\n",
       "</table>\n",
       "</div>"
      ],
      "text/plain": [
       "   employee_id employee_name                  adress gender         DOB  \\\n",
       "0            1          john   11 east ave califonia      M  01/01/1971   \n",
       "1            2          mark            78 milay usa      M  05/20/1969   \n",
       "2            3         Penny          53 califonia        F  07/05/1986   \n",
       "3            4         Jacob      220 turtle street       M  04/23/1991   \n",
       "4            5         Carol  18 steishuizen street       F  07/23/1988   \n",
       "\n",
       "    salary  \n",
       "0  12500.0  \n",
       "1   1500.0  \n",
       "2   1250.0  \n",
       "3   2509.0  \n",
       "4   1125.0  "
      ]
     },
     "execution_count": 37,
     "metadata": {},
     "output_type": "execute_result"
    }
   ],
   "source": [
    "sql = \"\"\"\n",
    "SELECT *\n",
    "FROM employees\n",
    "\"\"\"\n",
    "\n",
    "df = pd.read_sql_query(sql, conn)\n",
    "df"
   ]
  },
  {
   "cell_type": "markdown",
   "id": "fa07be5a",
   "metadata": {},
   "source": [
    "# Variable containing SELECT statement with filtering"
   ]
  },
  {
   "cell_type": "code",
   "execution_count": 38,
   "id": "136a83db",
   "metadata": {},
   "outputs": [
    {
     "data": {
      "text/html": [
       "<div>\n",
       "<style scoped>\n",
       "    .dataframe tbody tr th:only-of-type {\n",
       "        vertical-align: middle;\n",
       "    }\n",
       "\n",
       "    .dataframe tbody tr th {\n",
       "        vertical-align: top;\n",
       "    }\n",
       "\n",
       "    .dataframe thead th {\n",
       "        text-align: right;\n",
       "    }\n",
       "</style>\n",
       "<table border=\"1\" class=\"dataframe\">\n",
       "  <thead>\n",
       "    <tr style=\"text-align: right;\">\n",
       "      <th></th>\n",
       "      <th>employee_id</th>\n",
       "      <th>employee_name</th>\n",
       "      <th>adress</th>\n",
       "      <th>gender</th>\n",
       "      <th>DOB</th>\n",
       "      <th>salary</th>\n",
       "    </tr>\n",
       "  </thead>\n",
       "  <tbody>\n",
       "    <tr>\n",
       "      <th>0</th>\n",
       "      <td>3</td>\n",
       "      <td>Penny</td>\n",
       "      <td>53 califonia</td>\n",
       "      <td>F</td>\n",
       "      <td>07/05/1986</td>\n",
       "      <td>1250.0</td>\n",
       "    </tr>\n",
       "    <tr>\n",
       "      <th>1</th>\n",
       "      <td>5</td>\n",
       "      <td>Carol</td>\n",
       "      <td>18 steishuizen street</td>\n",
       "      <td>F</td>\n",
       "      <td>07/23/1988</td>\n",
       "      <td>1125.0</td>\n",
       "    </tr>\n",
       "  </tbody>\n",
       "</table>\n",
       "</div>"
      ],
      "text/plain": [
       "   employee_id employee_name                  adress gender         DOB  \\\n",
       "0            3         Penny          53 califonia        F  07/05/1986   \n",
       "1            5         Carol  18 steishuizen street       F  07/23/1988   \n",
       "\n",
       "   salary  \n",
       "0  1250.0  \n",
       "1  1125.0  "
      ]
     },
     "execution_count": 38,
     "metadata": {},
     "output_type": "execute_result"
    }
   ],
   "source": [
    "sql = \"\"\"\n",
    "SELECT *\n",
    "FROM employees\n",
    "WHERE gender <> 'M'\n",
    "\"\"\"\n",
    "df = pd.read_sql_query(sql, conn)\n",
    "df"
   ]
  },
  {
   "cell_type": "markdown",
   "id": "7bce3cf6",
   "metadata": {},
   "source": [
    "# Variable containing SELECT statement with filtering"
   ]
  },
  {
   "cell_type": "code",
   "execution_count": 40,
   "id": "8da12ef2",
   "metadata": {},
   "outputs": [
    {
     "data": {
      "text/html": [
       "<div>\n",
       "<style scoped>\n",
       "    .dataframe tbody tr th:only-of-type {\n",
       "        vertical-align: middle;\n",
       "    }\n",
       "\n",
       "    .dataframe tbody tr th {\n",
       "        vertical-align: top;\n",
       "    }\n",
       "\n",
       "    .dataframe thead th {\n",
       "        text-align: right;\n",
       "    }\n",
       "</style>\n",
       "<table border=\"1\" class=\"dataframe\">\n",
       "  <thead>\n",
       "    <tr style=\"text-align: right;\">\n",
       "      <th></th>\n",
       "      <th>employee_name</th>\n",
       "      <th>salary</th>\n",
       "    </tr>\n",
       "  </thead>\n",
       "  <tbody>\n",
       "    <tr>\n",
       "      <th>0</th>\n",
       "      <td>Penny</td>\n",
       "      <td>1250.0</td>\n",
       "    </tr>\n",
       "    <tr>\n",
       "      <th>1</th>\n",
       "      <td>mark</td>\n",
       "      <td>1500.0</td>\n",
       "    </tr>\n",
       "  </tbody>\n",
       "</table>\n",
       "</div>"
      ],
      "text/plain": [
       "  employee_name  salary\n",
       "0         Penny  1250.0\n",
       "1          mark  1500.0"
      ]
     },
     "execution_count": 40,
     "metadata": {},
     "output_type": "execute_result"
    }
   ],
   "source": [
    "sql = \"\"\"\n",
    "SELECT employee_name, salary\n",
    "FROM employees\n",
    "WHERE salary BETWEEN 1200.00 AND 1800.00\n",
    "ORDER BY salary ASC\n",
    "\"\"\"\n",
    "\n",
    "df = pd.read_sql_query(sql, conn)\n",
    "df"
   ]
  },
  {
   "cell_type": "markdown",
   "id": "7d06f359",
   "metadata": {},
   "source": [
    "# Closing connection to our database"
   ]
  },
  {
   "cell_type": "code",
   "execution_count": 43,
   "id": "502e4d20",
   "metadata": {},
   "outputs": [],
   "source": [
    "conn.close()"
   ]
  }
 ],
 "metadata": {
  "kernelspec": {
   "display_name": "Python 3 (ipykernel)",
   "language": "python",
   "name": "python3"
  },
  "language_info": {
   "codemirror_mode": {
    "name": "ipython",
    "version": 3
   },
   "file_extension": ".py",
   "mimetype": "text/x-python",
   "name": "python",
   "nbconvert_exporter": "python",
   "pygments_lexer": "ipython3",
   "version": "3.9.7"
  }
 },
 "nbformat": 4,
 "nbformat_minor": 5
}
